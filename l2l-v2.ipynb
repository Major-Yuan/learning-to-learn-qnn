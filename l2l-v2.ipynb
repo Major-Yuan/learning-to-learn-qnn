{
 "cells": [
  {
   "cell_type": "code",
   "execution_count": 16,
   "metadata": {},
   "outputs": [],
   "source": [
    "import torch\n",
    "from torch.autograd import Variable\n",
    "import pennylane as qml\n",
    "\n",
    "from pennylane import numpy as np\n",
    "\n",
    "from random import random\n",
    "import torch.nn as nn\n",
    "import torch.nn.functional as F\n",
    "import torch.optim as optim\n",
    "\n",
    "from matplotlib import pyplot as plt\n",
    "\n",
    "from tqdm import tqdm\n",
    "%matplotlib inline\n",
    "\n",
    "import scipy\n",
    "from scipy import optimize\n",
    "\n",
    "import time"
   ]
  },
  {
   "cell_type": "code",
   "execution_count": 33,
   "metadata": {},
   "outputs": [],
   "source": [
    "class L2L(nn.Module):\n",
    "    dev = qml.device('default.qubit', wires=2)\n",
    "\n",
    "    def __init__(self, function):\n",
    "        super().__init__()\n",
    "        self.num_feats = 3  # rnn_output, qnn input params\n",
    "        self.batch_size = 12\n",
    "        self.rnn_input_size = 1 # qnn output size\n",
    "        \n",
    "        self.hid_cell = None\n",
    "        self.rnn_output = None\n",
    "        self.qnn_output = None\n",
    "        \n",
    "        self.lstm = nn.LSTM(\n",
    "            input_size=self.rnn_input_size, hidden_size=self.num_feats, num_layers=1, dropout=0\n",
    "        )\n",
    "        \n",
    "        self.function = function\n",
    "        self.target = None\n",
    "\n",
    "    def init_hid_cell(self, seq_len=1):\n",
    "        self.rnn_output = torch.zeros(seq_len, self.batch_size, self.num_feats)\n",
    "        self.qnn_output = torch.zeros(seq_len, self.batch_size, self.rnn_input_size)\n",
    "\n",
    "        hidden = torch.zeros(seq_len, self.batch_size, self.num_feats)\n",
    "        cell = torch.zeros(seq_len, self.batch_size, self.num_feats)\n",
    "        self.hid_cell = (hidden, cell)\n",
    "\n",
    "    def init_target(self):\n",
    "        self.target = (torch.rand(self.batch_size, self.rnn_input_size)-0.5)*2\n",
    "\n",
    "    def step(self):\n",
    "        assert self.hid_cell is not None\n",
    "    \n",
    "        x = self.qnn_output[[-1], :, :]\n",
    "        # display(f'RNN input {x.shape}')\n",
    "        \n",
    "        rnn_output, self.hid_cell = self.lstm(x, self.hid_cell)\n",
    "        self.rnn_output = torch.cat((self.rnn_output, rnn_output), dim=0) #(seq_dim, batch_size, feature_size)\n",
    "        # display(f'RNN output: {rnn_output.shape} RNN hist {self.rnn_output.shape}')\n",
    "        \n",
    "        assert rnn_output.shape[0] == 1\n",
    "        qnn_output = torch.zeros_like(x)\n",
    "        # this is gonna turn into proper batch handling\n",
    "        for i in range(rnn_output.shape[1]):\n",
    "            qnn_input_batch_element = rnn_output[0, i, :]\n",
    "            qnn_output_batch_element = self.function(qnn_input_batch_element)\n",
    "            qnn_output[0, i, :] = qnn_output_batch_element # .view(1, 1, -1)\n",
    "        qnn_output[0,:,:] = torch.abs(qnn_output[0,:,:] - self.target)\n",
    "        # display(f'circuit output: {qnn_output.shape}')\n",
    "        self.qnn_output = torch.cat((self.qnn_output, qnn_output), dim=0)\n",
    "\n",
    "        return self.qnn_output\n",
    "\n",
    "    def loss(self):\n",
    "        # display(f'true: {true.shape}, pred: {self.qnn_output.shape}')\n",
    "        best_up_to = torch.zeros_like(self.qnn_output)\n",
    "        # according to the paper, we do min{f_t - min{f_j}, 0} where j < t *not j <= t*\n",
    "        # so for the very first qnn output, there is no history\n",
    "        best_up_to[1, :, :] = self.qnn_output[1, :, :]\n",
    "        # go along the sequence axis which is dim=0\n",
    "        assert self.qnn_output.shape[0] > 2 # otherwise we need to skip the for loop!\n",
    "        for i in range(2, self.qnn_output.shape[0]):\n",
    "            # array/tensor slicing is inclusive on the left and exclusive on the right\n",
    "            best_up_to[i, :, :], _ = self.qnn_output[1:i, :, :].min(dim=0)\n",
    "        clipped_err = self.qnn_output[1:] - best_up_to[1:] #torch.min(self.qnn_output[1:] - best_up_to[1:], 0)\n",
    "\n",
    "        return clipped_err.mean()\n",
    "\n",
    "    def numpy_output(self):\n",
    "        return self.qnn_output.detach().numpy().squeeze()\n",
    "\n",
    "dev = qml.device('default.qubit', wires=2)\n",
    "@qml.qnode(dev, interface='torch')\n",
    "def circuit(parameters):\n",
    "    phi = 2*np.pi*parameters[:2]\n",
    "    theta = 2*np.pi*parameters[-1]\n",
    "    qml.RX(phi[0], wires=0)\n",
    "    qml.RZ(phi[1], wires=1)\n",
    "    qml.CNOT(wires=[0, 1])\n",
    "    qml.RX(theta, wires=0)\n",
    "    return qml.expval(qml.PauliZ(0))"
   ]
  },
  {
   "cell_type": "code",
   "execution_count": 37,
   "metadata": {},
   "outputs": [
    {
     "name": "stderr",
     "output_type": "stream",
     "text": [
      "100%|██████████| 100/100 [02:07<00:00,  1.32s/it]"
     ]
    },
    {
     "name": "stdout",
     "output_type": "stream",
     "text": [
      "CPU times: user 2min 45s, sys: 1min 29s, total: 4min 15s\n",
      "Wall time: 2min 7s\n"
     ]
    },
    {
     "name": "stderr",
     "output_type": "stream",
     "text": [
      "\n"
     ]
    },
    {
     "data": {
      "image/png": "[encoded data removed]",
      "text/plain": [
       "<Figure size 432x288 with 1 Axes>"
      ]
     },
     "metadata": {
      "needs_background": "light"
     },
     "output_type": "display_data"
    }
   ],
   "source": [
    "%%time \n",
    "l2l = L2L(circuit)\n",
    "optimizer = optim.Adam(l2l.parameters(), lr=0.1)\n",
    "num_epoch = 100\n",
    "num_steps = 10\n",
    "all_loss = []\n",
    "for epoch_ind in tqdm(range(num_epoch)):\n",
    "    l2l.zero_grad()\n",
    "    l2l.init_hid_cell()\n",
    "    l2l.init_target()\n",
    "    for i in range(num_steps):\n",
    "        l2l.step()\n",
    "#         print(l2l.qnn_output[])\n",
    "    loss = l2l.loss()\n",
    "    loss.backward()\n",
    "    optimizer.step()\n",
    "    all_loss.append(loss.item())\n",
    "plt.plot(all_loss)"
   ]
  },
  {
   "cell_type": "code",
   "execution_count": 35,
   "metadata": {},
   "outputs": [],
   "source": [
    "target = 0.33\n",
    "num_steps = 25\n",
    "\n",
    "# neural optimizer\n",
    "def neural_optimizer(target):\n",
    "    l2l.batch_size = 1\n",
    "\n",
    "    l2l.init_hid_cell()\n",
    "    l2l.target = torch.tensor([[target]])\n",
    "\n",
    "    for i in range(num_steps):\n",
    "        l2l.step()\n",
    "\n",
    "    return l2l.qnn_output[1:].view(-1).detach().numpy()\n",
    "\n",
    "# gradient descent\n",
    "def gradient_descent(target, dev):\n",
    "    @qml.qnode(dev, interface='torch')\n",
    "    def circuit(phi, theta):\n",
    "        qml.RX(phi[0], wires=0)\n",
    "        qml.RZ(phi[1], wires=1)\n",
    "        qml.CNOT(wires=[0, 1])\n",
    "        qml.RX(theta[0], wires=0)\n",
    "        return qml.expval(qml.PauliZ(0))\n",
    "\n",
    "    def cost(phi, theta):\n",
    "        result = circuit(phi, theta)\n",
    "        return torch.abs(result - target)**2, result\n",
    "\n",
    "    phi = Variable(2*np.pi*torch.rand(2), requires_grad=True)\n",
    "    theta = Variable(2*np.pi*torch.rand(1), requires_grad=True)\n",
    "\n",
    "    opt = torch.optim.Adam([phi, theta], lr = 0.1)\n",
    "\n",
    "    def closure():\n",
    "        opt.zero_grad()\n",
    "        loss, result = cost(phi, theta)\n",
    "        loss.backward()\n",
    "        return loss, result\n",
    "\n",
    "    GD_output = []\n",
    "\n",
    "    for i in range(num_steps):\n",
    "        loss, result = opt.step(closure)\n",
    "#         phi_final, theta_final = opt.param_groups[0]['params']\n",
    "#         GD_output.append(circuit(phi_final, theta_final)-target)\n",
    "        GD_output.append(result-target)\n",
    "\n",
    "    return GD_output\n",
    "\n",
    "#\n",
    "def neldermead(target, dev):\n",
    "\n",
    "    @qml.qnode(dev, interface='torch')\n",
    "    def circuit(parameters):\n",
    "        qml.RX(parameters[0], wires=0)\n",
    "        qml.RZ(parameters[1], wires=1)\n",
    "        qml.CNOT(wires=[0, 1])\n",
    "        qml.RX(parameters[2], wires=0)\n",
    "        return qml.expval(qml.PauliZ(0))\n",
    "    \n",
    "    def cost(parameters):\n",
    "        result = circuit(parameters)\n",
    "        return torch.abs(result - target)**2\n",
    "    \n",
    "    history = []\n",
    "    def callback(x):\n",
    "        fobj = circuit(x)\n",
    "        history.append(fobj)\n",
    "    \n",
    "    initial_par = 2*np.pi*np.random.rand(3)\n",
    "    opt_parameters = scipy.optimize.minimize(cost, initial_par, method='Nelder-Mead', callback=callback,\n",
    "                                             options={'maxfev': num_steps, 'return_all': False})\n",
    "    \n",
    "    return opt_parameters, history"
   ]
  },
  {
   "cell_type": "code",
   "execution_count": 42,
   "metadata": {},
   "outputs": [
    {
     "name": "stdout",
     "output_type": "stream",
     "text": [
      "start 1\n",
      "0.025946855545043945\n",
      "start 2\n",
      "0.11304759979248047\n",
      "start 3\n",
      "0.029002666473388672\n"
     ]
    },
    {
     "data": {
      "text/plain": [
       "<matplotlib.legend.Legend at 0x7ff2e1620b38>"
      ]
     },
     "execution_count": 42,
     "metadata": {},
     "output_type": "execute_result"
    },
    {
     "data": {
      "image/png": "[encoded data removed]",
      "text/plain": [
       "<Figure size 864x504 with 1 Axes>"
      ]
     },
     "metadata": {
      "needs_background": "light"
     },
     "output_type": "display_data"
    }
   ],
   "source": [
    "target = 0.1\n",
    "\n",
    "fig, ax = plt.subplots(figsize = (12,7))\n",
    "\n",
    "dev = qml.device('default.qubit', wires=2)\n",
    "# dev = qml.device('forest.qvm', device='Aspen-4-2Q-A', shots=shots)\n",
    "\n",
    "@qml.qnode(dev, interface='torch')\n",
    "def circuit(parameters):\n",
    "    phi = 2*np.pi*parameters[:2]\n",
    "    theta = 2*np.pi*parameters[-1]\n",
    "    qml.RX(phi[0], wires=0)\n",
    "    qml.RZ(phi[1], wires=1)\n",
    "    qml.CNOT(wires=[0, 1])\n",
    "    qml.RX(theta, wires=0)\n",
    "    return qml.expval(qml.PauliZ(0))\n",
    "\n",
    "l2l.function = circuit\n",
    "\n",
    "start = time.time()\n",
    "\n",
    "print('start 1')\n",
    "ax.plot(neural_optimizer(target))\n",
    "stop = time.time()\n",
    "print(stop-start)\n",
    "print('start 2')\n",
    "ax.plot(gradient_descent(target, dev))\n",
    "print(time.time()-stop)\n",
    "stop = time.time()\n",
    "print('start 3')\n",
    "opt_par, nelder_mead = neldermead(target, dev)\n",
    "ax.plot(np.array(nelder_mead)[:10]-target)\n",
    "print(time.time()-stop)\n",
    "ax.legend(['neural optimizer', 'gradient descent', 'nelder_mead'])"
   ]
  },
  {
   "cell_type": "code",
   "execution_count": 26,
   "metadata": {},
   "outputs": [
    {
     "ename": "NameError",
     "evalue": "name 'shots' is not defined",
     "output_type": "error",
     "traceback": [
      "\u001b[0;31m---------------------------------------------------------------------------\u001b[0m",
      "\u001b[0;31mNameError\u001b[0m                                 Traceback (most recent call last)",
      "\u001b[0;32m<ipython-input-26-bdab94b375a4>\u001b[0m in \u001b[0;36m<module>\u001b[0;34m\u001b[0m\n\u001b[1;32m      4\u001b[0m \u001b[0;34m\u001b[0m\u001b[0m\n\u001b[1;32m      5\u001b[0m \u001b[0;31m# dev = qml.device('default.qubit', wires=2)\u001b[0m\u001b[0;34m\u001b[0m\u001b[0;34m\u001b[0m\u001b[0;34m\u001b[0m\u001b[0m\n\u001b[0;32m----> 6\u001b[0;31m \u001b[0mdev\u001b[0m \u001b[0;34m=\u001b[0m \u001b[0mqml\u001b[0m\u001b[0;34m.\u001b[0m\u001b[0mdevice\u001b[0m\u001b[0;34m(\u001b[0m\u001b[0;34m'forest.qvm'\u001b[0m\u001b[0;34m,\u001b[0m \u001b[0mdevice\u001b[0m\u001b[0;34m=\u001b[0m\u001b[0;34m'Aspen-4-2Q-A'\u001b[0m\u001b[0;34m,\u001b[0m \u001b[0mshots\u001b[0m\u001b[0;34m=\u001b[0m\u001b[0mshots\u001b[0m\u001b[0;34m)\u001b[0m\u001b[0;34m\u001b[0m\u001b[0;34m\u001b[0m\u001b[0m\n\u001b[0m\u001b[1;32m      7\u001b[0m \u001b[0;34m\u001b[0m\u001b[0m\n\u001b[1;32m      8\u001b[0m \u001b[0;34m@\u001b[0m\u001b[0mqml\u001b[0m\u001b[0;34m.\u001b[0m\u001b[0mqnode\u001b[0m\u001b[0;34m(\u001b[0m\u001b[0mdev\u001b[0m\u001b[0;34m,\u001b[0m \u001b[0minterface\u001b[0m\u001b[0;34m=\u001b[0m\u001b[0;34m'torch'\u001b[0m\u001b[0;34m)\u001b[0m\u001b[0;34m\u001b[0m\u001b[0;34m\u001b[0m\u001b[0m\n",
      "\u001b[0;31mNameError\u001b[0m: name 'shots' is not defined"
     ]
    },
    {
     "data": {
      "image/png": "[encoded data removed]",
      "text/plain": [
       "<Figure size 864x504 with 1 Axes>"
      ]
     },
     "metadata": {
      "needs_background": "light"
     },
     "output_type": "display_data"
    }
   ],
   "source": [
    "target = 0.9\n",
    "\n",
    "fig, ax = plt.subplots(figsize = (12,7))\n",
    "\n",
    "# dev = qml.device('default.qubit', wires=2)\n",
    "dev = qml.device('forest.qvm', device='Aspen-4-2Q-A', shots=shots)\n",
    "\n",
    "@qml.qnode(dev, interface='torch')\n",
    "def circuit(parameters):\n",
    "    phi = 2*np.pi*parameters[:2]\n",
    "    theta = 2*np.pi*parameters[-1]\n",
    "    qml.RX(phi[0], wires=0)\n",
    "    qml.RZ(phi[1], wires=1)\n",
    "    qml.CNOT(wires=[0, 1])\n",
    "    qml.RX(theta, wires=0)\n",
    "    return qml.expval(qml.PauliZ(0))\n",
    "\n",
    "l2l.function = circuit\n",
    "\n",
    "start = time.time()\n",
    "\n",
    "print('start 1')\n",
    "ax.plot(neural_optimizer(target))\n",
    "stop = time.time()\n",
    "print(stop-start)\n",
    "print('start 2')\n",
    "ax.plot(gradient_descent(target, dev))\n",
    "print(time.time()-stop)\n",
    "stop = time.time()\n",
    "print('start 3')\n",
    "opt_par, nelder_mead = neldermead(target, dev)\n",
    "ax.plot(np.array(nelder_mead)[:10]-target)\n",
    "print(time.time()-stop)\n",
    "ax.legend(['neural optimizer', 'gradient descent', 'nelder_mead'])"
   ]
  },
  {
   "cell_type": "code",
   "execution_count": 59,
   "metadata": {},
   "outputs": [
    {
     "data": {
      "text/plain": [
       " final_simplex: (array([[4.64146552, 0.75340017, 4.88201645],\n",
       "       [4.71977246, 0.82535412, 4.54091486],\n",
       "       [4.70662243, 0.74963787, 4.74936583],\n",
       "       [4.66222872, 0.76468706, 4.70435937]]), array([0.47339502, 0.48823777, 0.48970159, 0.49056379]))\n",
       "           fun: 0.4733950222647086\n",
       "       message: 'Maximum number of function evaluations has been exceeded.'\n",
       "          nfev: 25\n",
       "           nit: 12\n",
       "        status: 1\n",
       "       success: False\n",
       "             x: array([4.64146552, 0.75340017, 4.88201645])"
      ]
     },
     "execution_count": 59,
     "metadata": {},
     "output_type": "execute_result"
    }
   ],
   "source": [
    "opt_par"
   ]
  }
 ],
 "metadata": {
  "kernelspec": {
   "display_name": "Python 3",
   "language": "python",
   "name": "python3"
  },
  "language_info": {
   "codemirror_mode": {
    "name": "ipython",
    "version": 3
   },
   "file_extension": ".py",
   "mimetype": "text/x-python",
   "name": "python",
   "nbconvert_exporter": "python",
   "pygments_lexer": "ipython3",
   "version": "3.6.8"
  }
 },
 "nbformat": 4,
 "nbformat_minor": 2
}
