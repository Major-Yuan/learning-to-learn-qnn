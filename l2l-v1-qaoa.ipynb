{
 "cells": [
  {
   "cell_type": "code",
   "execution_count": 1,
   "metadata": {},
   "outputs": [],
   "source": [
    "import pennylane as qml\n",
    "import torch\n",
    "from torch.autograd import Variable"
   ]
  },
  {
   "cell_type": "code",
   "execution_count": 2,
   "metadata": {},
   "outputs": [],
   "source": [
    "import torch\n",
    "from torch.autograd import Variable\n",
    "import pennylane as qml\n",
    "\n",
    "from pennylane import numpy as np\n",
    "\n",
    "from random import random\n",
    "import torch.nn as nn\n",
    "import torch.nn.functional as F\n",
    "import torch.optim as optim\n",
    "\n",
    "from matplotlib import pyplot as plt\n",
    "\n",
    "from tqdm import tqdm\n",
    "%matplotlib inline\n",
    "\n",
    "import scipy\n",
    "from scipy import optimize\n",
    "\n",
    "import time\n",
    "\n",
    "# from qaoa_qiskit_pennylane import QAOA_circ\n",
    "from pyquil_decomp import QAOA_circ"
   ]
  },
  {
   "cell_type": "code",
   "execution_count": 3,
   "metadata": {},
   "outputs": [],
   "source": [
    "dev = qml.device('default.qubit', wires=2)\n",
    "\n",
    "@qml.qnode(dev, interface='torch')\n",
    "def f_wrapper(parameters):\n",
    "    return QAOA_circ([p.val for p in parameters])"
   ]
  },
  {
   "cell_type": "code",
   "execution_count": 4,
   "metadata": {},
   "outputs": [],
   "source": [
    "shots = 100\n",
    "\n",
    "class L2L(nn.Module):\n",
    "    \n",
    "    def __init__(self, function):\n",
    "        super().__init__()\n",
    "        self.num_feats = 4  # rnn_output, qnn input params\n",
    "        self.batch_size = 12\n",
    "        self.rnn_input_size = 1 # qnn output size\n",
    "        \n",
    "        self.hid_cell = None\n",
    "        self.rnn_output = None\n",
    "        self.qnn_output = None\n",
    "        \n",
    "        self.lstm = nn.LSTM(\n",
    "            input_size=self.rnn_input_size, hidden_size=self.num_feats, num_layers=1, dropout=0\n",
    "        )\n",
    "        \n",
    "        self.function = function\n",
    "        \n",
    "        self.target = None\n",
    "\n",
    "    def init_hid_cell(self, seq_len=1):\n",
    "        self.rnn_output = torch.tensor([]) #torch.zeros(seq_len, self.batch_size, self.num_feats)\n",
    "        self.qnn_output = torch.zeros(seq_len, self.batch_size, self.rnn_input_size)\n",
    "        \n",
    "        hidden = torch.zeros(seq_len, self.batch_size, self.num_feats)\n",
    "        cell = torch.zeros(seq_len, self.batch_size, self.num_feats)\n",
    "        self.hid_cell = (hidden, cell)\n",
    "\n",
    "#     def circuit(self, x):\n",
    "#         # display(f'circuit arg {x.shape}')\n",
    "#         o = (x ** 2).sum()\n",
    "#         return  o + torch.rand_like(o) / 10\n",
    "\n",
    "    def init_target(self):\n",
    "        self.target = (torch.rand(self.batch_size, self.rnn_input_size)-0.5)*2\n",
    "\n",
    "    def step(self):\n",
    "        assert self.hid_cell is not None\n",
    "    \n",
    "        x = self.qnn_output[[-1], :, :]\n",
    "        # display(f'RNN input {x.shape}')\n",
    "        \n",
    "        rnn_output, self.hid_cell = self.lstm(x, self.hid_cell)\n",
    "        self.rnn_output = torch.cat((self.rnn_output, rnn_output), dim=0) #(seq_dim, batch_size, feature_size)\n",
    "        # display(f'RNN output: {rnn_output.shape} RNN hist {self.rnn_output.shape}')\n",
    "        \n",
    "        assert rnn_output.shape[0] == 1\n",
    "        qnn_output = torch.zeros_like(x)\n",
    "        # this is gonna turn into proper batch handling\n",
    "        for i in range(rnn_output.shape[1]):\n",
    "            qnn_input_batch_element = rnn_output[0, i, :]\n",
    "            qnn_output_batch_element = f_wrapper(qnn_input_batch_element.view(-1))\n",
    "            qnn_output[0, i, :] = qnn_output_batch_element # .view(1, 1, -1)\n",
    "\n",
    "        qnn_output[0,:,:] = qnn_output[0,:,:] - self.target\n",
    "        # display(f'circuit output: {qnn_output.shape}')\n",
    "        self.qnn_output = torch.cat((self.qnn_output, qnn_output), dim=0)\n",
    "\n",
    "        return self.qnn_output\n",
    "\n",
    "    def loss(self, true):\n",
    "        # display(f'true: {true.shape}, pred: {self.qnn_output.shape}')\n",
    "        assert true.shape == self.qnn_output.shape\n",
    "        \n",
    "        return F.mse_loss(self.qnn_output, true)\n",
    "\n",
    "    def numpy_output(self):\n",
    "        return self.qnn_output.detach().numpy().squeeze()\n",
    "    \n",
    "dev = qml.device('default.qubit', wires=2)\n",
    "# dev = qml.device('forest.qvm', device='Aspen-4-16Q-A', shots=shots)\n",
    "# dev = qml.device('forest.qpu', device='Aspen-4-16Q-A', shots=shots) \n",
    "# dev_pyqvm = qml.device('forest.qvm', device='2q-pyqvm', shots=shots)\n",
    "\n",
    "@qml.qnode(dev, interface='torch')\n",
    "def circuit(parameters):\n",
    "    phi = 2*np.pi*parameters[:2]\n",
    "    theta = 2*np.pi*parameters[-1]\n",
    "    qml.RX(phi[0], wires=0)\n",
    "    qml.RZ(phi[1], wires=1)\n",
    "    qml.CNOT(wires=[0, 1])\n",
    "    qml.RX(theta, wires=0)\n",
    "    return qml.expval(qml.PauliZ(0))"
   ]
  },
  {
   "cell_type": "code",
   "execution_count": null,
   "metadata": {
    "scrolled": false
   },
   "outputs": [],
   "source": [
    "%%time \n",
    "\n",
    "l2l = L2L(circuit)\n",
    "\n",
    "optimizer = optim.Adam(l2l.parameters(), lr=0.1)\n",
    "\n",
    "num_epoch = 60\n",
    "num_steps = 10\n",
    "\n",
    "all_loss = []\n",
    "for epoch_ind in tqdm(range(num_epoch)):\n",
    "\n",
    "    l2l.zero_grad()\n",
    "    l2l.init_hid_cell()\n",
    "    l2l.init_target()\n",
    "\n",
    "    for i in range(num_steps):\n",
    "        l2l.step()\n",
    "#         print(l2l.qnn_output[])\n",
    "\n",
    "    loss = l2l.loss(torch.zeros(num_steps + 1, l2l.batch_size, l2l.rnn_input_size))\n",
    "    loss.backward()\n",
    "    optimizer.step()\n",
    "\n",
    "    all_loss.append(loss.item())\n",
    "\n",
    "plt.plot(all_loss)"
   ]
  },
  {
   "cell_type": "code",
   "execution_count": 7,
   "metadata": {},
   "outputs": [],
   "source": [
    "target = 0.33\n",
    "num_steps = 25\n",
    "\n",
    "# neural optimizer\n",
    "def neural_optimizer(target):\n",
    "    l2l.batch_size = 1\n",
    "\n",
    "    l2l.init_hid_cell()\n",
    "    l2l.target = torch.tensor([[target]])\n",
    "\n",
    "    for i in range(num_steps):\n",
    "        l2l.step()\n",
    "\n",
    "    return l2l.qnn_output[1:].view(-1).detach().numpy()\n",
    "\n",
    "# gradient descent\n",
    "def gradient_descent(target, dev):\n",
    "    @qml.qnode(dev, interface='torch')\n",
    "    def circuit(phi, theta):\n",
    "        qml.RX(phi[0], wires=0)\n",
    "        qml.RZ(phi[1], wires=1)\n",
    "        qml.CNOT(wires=[0, 1])\n",
    "        qml.RX(theta[0], wires=0)\n",
    "        return qml.expval(qml.PauliZ(0))\n",
    "\n",
    "    def cost(phi, theta):\n",
    "        result = circuit(phi, theta)\n",
    "        return torch.abs(result - target)**2, result\n",
    "\n",
    "    phi = Variable(2*np.pi*torch.rand(2), requires_grad=True)\n",
    "    theta = Variable(2*np.pi*torch.rand(1), requires_grad=True)\n",
    "\n",
    "    opt = torch.optim.Adam([phi, theta], lr = 0.1)\n",
    "\n",
    "    def closure():\n",
    "        opt.zero_grad()\n",
    "        loss, result = cost(phi, theta)\n",
    "        loss.backward()\n",
    "        return loss, result\n",
    "\n",
    "    GD_output = []\n",
    "\n",
    "    for i in range(num_steps):\n",
    "        loss, result = opt.step(closure)\n",
    "#         phi_final, theta_final = opt.param_groups[0]['params']\n",
    "#         GD_output.append(circuit(phi_final, theta_final)-target)\n",
    "        GD_output.append(result-target)\n",
    "\n",
    "    return GD_output\n",
    "\n",
    "#\n",
    "def neldermead(target, dev):\n",
    "\n",
    "    @qml.qnode(dev, interface='torch')\n",
    "    def circuit(parameters):\n",
    "        qml.RX(parameters[0], wires=0)\n",
    "        qml.RZ(parameters[1], wires=1)\n",
    "        qml.CNOT(wires=[0, 1])\n",
    "        qml.RX(parameters[2], wires=0)\n",
    "        return qml.expval(qml.PauliZ(0))\n",
    "    \n",
    "    def cost(parameters):\n",
    "        result = circuit(parameters)\n",
    "        return torch.abs(result - target)**2\n",
    "    \n",
    "    history = []\n",
    "    def callback(x):\n",
    "        fobj = circuit(x)\n",
    "        history.append(fobj)\n",
    "    \n",
    "    initial_par = 2*np.pi*np.random.rand(3)\n",
    "    opt_parameters = scipy.optimize.minimize(cost, initial_par, method='Nelder-Mead', callback=callback,\n",
    "                                             options={'maxfev': num_steps, 'return_all': False})\n",
    "    \n",
    "    return opt_parameters, history\n",
    "    \n",
    "    "
   ]
  },
  {
   "cell_type": "code",
   "execution_count": 8,
   "metadata": {},
   "outputs": [
    {
     "name": "stdout",
     "output_type": "stream",
     "text": [
      "start 1\n",
      "0.16002726554870605\n",
      "start 2\n",
      "0.31177282333374023\n",
      "start 3\n",
      "0.0731813907623291\n"
     ]
    },
    {
     "data": {
      "text/plain": [
       "<matplotlib.legend.Legend at 0x7f0ca9ce86d8>"
      ]
     },
     "execution_count": 8,
     "metadata": {},
     "output_type": "execute_result"
    },
    {
     "data": {
      "image/png": "[encoded data removed]",
      "text/plain": [
       "<Figure size 864x504 with 1 Axes>"
      ]
     },
     "metadata": {
      "needs_background": "light"
     },
     "output_type": "display_data"
    }
   ],
   "source": [
    "target = -0.7\n",
    "\n",
    "fig, ax = plt.subplots(figsize = (12,7))\n",
    "\n",
    "dev = qml.device('default.qubit', wires=2)\n",
    "# dev = qml.device('forest.qvm', device='Aspen-4-2Q-A', shots=shots)\n",
    "\n",
    "# @qml.qnode(dev, interface='torch')\n",
    "# def circuit(parameters):\n",
    "#     phi = 2*np.pi*parameters[:2]\n",
    "#     theta = 2*np.pi*parameters[-1]\n",
    "#     qml.RX(phi[0], wires=0)\n",
    "#     qml.RZ(phi[1], wires=1)\n",
    "#     qml.CNOT(wires=[0, 1])\n",
    "#     qml.RX(theta, wires=0)\n",
    "#     return qml.expval(qml.PauliZ(0))\n",
    "\n",
    "# l2l.function = circuit\n",
    "\n",
    "start = time.time()\n",
    "\n",
    "print('start 1')\n",
    "ax.plot(neural_optimizer(target))\n",
    "stop = time.time()\n",
    "print(stop-start)\n",
    "print('start 2')\n",
    "ax.plot(gradient_descent(target, dev))\n",
    "print(time.time()-stop)\n",
    "stop = time.time()\n",
    "print('start 3')\n",
    "opt_par, nelder_mead = neldermead(target, dev)\n",
    "ax.plot(np.array(nelder_mead)[:10]-target)\n",
    "print(time.time()-stop)\n",
    "ax.legend(['neural optimizer', 'gradient descent', 'nelder_mead'])"
   ]
  },
  {
   "cell_type": "code",
   "execution_count": 50,
   "metadata": {},
   "outputs": [
    {
     "name": "stdout",
     "output_type": "stream",
     "text": [
      "start 1\n",
      "0.9366786479949951\n",
      "start 2\n",
      "6.231274843215942\n",
      "start 3\n",
      "1.5039305686950684\n"
     ]
    },
    {
     "data": {
      "text/plain": [
       "<matplotlib.legend.Legend at 0x7ff404cf6128>"
      ]
     },
     "execution_count": 50,
     "metadata": {},
     "output_type": "execute_result"
    },
    {
     "data": {
      "image/png": "[encoded data removed]",
      "text/plain": [
       "<Figure size 864x504 with 1 Axes>"
      ]
     },
     "metadata": {
      "needs_background": "light"
     },
     "output_type": "display_data"
    }
   ],
   "source": [
    "target = 0.9\n",
    "\n",
    "fig, ax = plt.subplots(figsize = (12,7))\n",
    "\n",
    "# dev = qml.device('default.qubit', wires=2)\n",
    "dev = qml.device('forest.qvm', device='Aspen-4-2Q-A', shots=shots)\n",
    "\n",
    "@qml.qnode(dev, interface='torch')\n",
    "def circuit(parameters):\n",
    "    phi = 2*np.pi*parameters[:2]\n",
    "    theta = 2*np.pi*parameters[-1]\n",
    "    qml.RX(phi[0], wires=0)\n",
    "    qml.RZ(phi[1], wires=1)\n",
    "    qml.CNOT(wires=[0, 1])\n",
    "    qml.RX(theta, wires=0)\n",
    "    return qml.expval(qml.PauliZ(0))\n",
    "\n",
    "l2l.function = circuit\n",
    "\n",
    "start = time.time()\n",
    "\n",
    "print('start 1')\n",
    "ax.plot(neural_optimizer(target))\n",
    "stop = time.time()\n",
    "print(stop-start)\n",
    "print('start 2')\n",
    "ax.plot(gradient_descent(target, dev))\n",
    "print(time.time()-stop)\n",
    "stop = time.time()\n",
    "print('start 3')\n",
    "opt_par, nelder_mead = neldermead(target, dev)\n",
    "ax.plot(np.array(nelder_mead)[:10]-target)\n",
    "print(time.time()-stop)\n",
    "ax.legend(['neural optimizer', 'gradient descent', 'nelder_mead'])"
   ]
  },
  {
   "cell_type": "code",
   "execution_count": 59,
   "metadata": {},
   "outputs": [
    {
     "data": {
      "text/plain": [
       " final_simplex: (array([[4.64146552, 0.75340017, 4.88201645],\n",
       "       [4.71977246, 0.82535412, 4.54091486],\n",
       "       [4.70662243, 0.74963787, 4.74936583],\n",
       "       [4.66222872, 0.76468706, 4.70435937]]), array([0.47339502, 0.48823777, 0.48970159, 0.49056379]))\n",
       "           fun: 0.4733950222647086\n",
       "       message: 'Maximum number of function evaluations has been exceeded.'\n",
       "          nfev: 25\n",
       "           nit: 12\n",
       "        status: 1\n",
       "       success: False\n",
       "             x: array([4.64146552, 0.75340017, 4.88201645])"
      ]
     },
     "execution_count": 59,
     "metadata": {},
     "output_type": "execute_result"
    }
   ],
   "source": [
    "opt_par"
   ]
  }
 ],
 "metadata": {
  "kernelspec": {
   "display_name": "Python 3",
   "language": "python",
   "name": "python3"
  },
  "language_info": {
   "codemirror_mode": {
    "name": "ipython",
    "version": 3
   },
   "file_extension": ".py",
   "mimetype": "text/x-python",
   "name": "python",
   "nbconvert_exporter": "python",
   "pygments_lexer": "ipython3",
   "version": "3.6.8"
  }
 },
 "nbformat": 4,
 "nbformat_minor": 2
}
